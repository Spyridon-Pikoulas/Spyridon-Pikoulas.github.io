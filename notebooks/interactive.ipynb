{
 "cells": [
  {
   "cell_type": "code",
   "execution_count": 57,
   "id": "c0e23010",
   "metadata": {},
   "outputs": [],
   "source": [
    "import csv\n",
    "import numpy as np\n",
    "import pandas as pd\n",
    "from math import radians, cos, sin, asin, sqrt\n",
    "import matplotlib.pyplot as plt\n",
    "import bokeh\n",
    "from bokeh.models import ColumnDataSource, RangeTool\n",
    "from bokeh.palettes import Category20_14\n",
    "from bokeh.plotting import figure, show\n",
    "from bokeh.transform import factor_cmap\n",
    "from bokeh.models import FactorRange\n",
    "from bokeh.models import Legend\n",
    "from bokeh.layouts import column\n",
    "from scipy.signal import savgol_filter # for smoothing a curve"
   ]
  },
  {
   "cell_type": "code",
   "execution_count": 2,
   "id": "15d35b3d",
   "metadata": {},
   "outputs": [],
   "source": [
    "data = pd.read_csv(\"Police_Department_Incident_Reports__Historical_2003_to_May_2018.csv\") "
   ]
  },
  {
   "cell_type": "code",
   "execution_count": 43,
   "id": "a1d57ed6",
   "metadata": {},
   "outputs": [
    {
     "name": "stderr",
     "output_type": "stream",
     "text": [
      "C:\\Users\\tobia\\Anaconda3\\envs\\imanalysis\\lib\\site-packages\\ipykernel_launcher.py:1: SettingWithCopyWarning: \n",
      "A value is trying to be set on a copy of a slice from a DataFrame.\n",
      "Try using .loc[row_indexer,col_indexer] = value instead\n",
      "\n",
      "See the caveats in the documentation: https://pandas.pydata.org/pandas-docs/stable/user_guide/indexing.html#returning-a-view-versus-a-copy\n",
      "  \"\"\"Entry point for launching an IPython kernel.\n",
      "C:\\Users\\tobia\\Anaconda3\\envs\\imanalysis\\lib\\site-packages\\ipykernel_launcher.py:2: SettingWithCopyWarning: \n",
      "A value is trying to be set on a copy of a slice from a DataFrame.\n",
      "Try using .loc[row_indexer,col_indexer] = value instead\n",
      "\n",
      "See the caveats in the documentation: https://pandas.pydata.org/pandas-docs/stable/user_guide/indexing.html#returning-a-view-versus-a-copy\n",
      "  \n"
     ]
    }
   ],
   "source": [
    "data['Date'] = pd.to_datetime(data['Date']) - pd.to_timedelta(7, unit='d')\n",
    "data['Year'] = pd.DatetimeIndex(data['Date']).year\n",
    "data = data.loc[(data['Year'] >= 2012) & (data['Year'] <= 2016)]"
   ]
  },
  {
   "cell_type": "code",
   "execution_count": 7,
   "id": "e68007e9",
   "metadata": {},
   "outputs": [
    {
     "data": {
      "text/plain": [
       "{'BAYVIEW',\n",
       " 'CENTRAL',\n",
       " 'INGLESIDE',\n",
       " 'MISSION',\n",
       " 'NORTHERN',\n",
       " 'PARK',\n",
       " 'RICHMOND',\n",
       " 'SOUTHERN',\n",
       " 'TARAVAL',\n",
       " 'TENDERLOIN'}"
      ]
     },
     "execution_count": 7,
     "metadata": {},
     "output_type": "execute_result"
    }
   ],
   "source": [
    "set(data.PdDistrict.unique()[:-1])"
   ]
  },
  {
   "cell_type": "code",
   "execution_count": 111,
   "id": "af0069b2",
   "metadata": {},
   "outputs": [
    {
     "data": {
      "text/html": [
       "<div>\n",
       "<style scoped>\n",
       "    .dataframe tbody tr th:only-of-type {\n",
       "        vertical-align: middle;\n",
       "    }\n",
       "\n",
       "    .dataframe tbody tr th {\n",
       "        vertical-align: top;\n",
       "    }\n",
       "\n",
       "    .dataframe thead th {\n",
       "        text-align: right;\n",
       "    }\n",
       "</style>\n",
       "<table border=\"1\" class=\"dataframe\">\n",
       "  <thead>\n",
       "    <tr style=\"text-align: right;\">\n",
       "      <th></th>\n",
       "      <th>Date</th>\n",
       "      <th>counts</th>\n",
       "    </tr>\n",
       "  </thead>\n",
       "  <tbody>\n",
       "    <tr>\n",
       "      <th>0</th>\n",
       "      <td>2012-01-01</td>\n",
       "      <td>40</td>\n",
       "    </tr>\n",
       "    <tr>\n",
       "      <th>1</th>\n",
       "      <td>2012-01-08</td>\n",
       "      <td>262</td>\n",
       "    </tr>\n",
       "    <tr>\n",
       "      <th>2</th>\n",
       "      <td>2012-01-15</td>\n",
       "      <td>157</td>\n",
       "    </tr>\n",
       "    <tr>\n",
       "      <th>3</th>\n",
       "      <td>2012-01-22</td>\n",
       "      <td>263</td>\n",
       "    </tr>\n",
       "    <tr>\n",
       "      <th>4</th>\n",
       "      <td>2012-01-29</td>\n",
       "      <td>275</td>\n",
       "    </tr>\n",
       "  </tbody>\n",
       "</table>\n",
       "</div>"
      ],
      "text/plain": [
       "        Date  counts\n",
       "0 2012-01-01      40\n",
       "1 2012-01-08     262\n",
       "2 2012-01-15     157\n",
       "3 2012-01-22     263\n",
       "4 2012-01-29     275"
      ]
     },
     "execution_count": 111,
     "metadata": {},
     "output_type": "execute_result"
    }
   ],
   "source": [
    "focus_district = 'TENDERLOIN'\n",
    "df = data.loc[(data['PdDistrict'] == focus_district)]\n",
    "district = df.groupby([pd.Grouper(key='Date', freq='W')]).size().reset_index(name='counts') #df.groupby(['Date']).size().reset_index(name='counts')\n",
    "district.head()"
   ]
  },
  {
   "cell_type": "code",
   "execution_count": 112,
   "id": "b5e453fc",
   "metadata": {},
   "outputs": [
    {
     "data": {
      "text/html": [
       "<div>\n",
       "<style scoped>\n",
       "    .dataframe tbody tr th:only-of-type {\n",
       "        vertical-align: middle;\n",
       "    }\n",
       "\n",
       "    .dataframe tbody tr th {\n",
       "        vertical-align: top;\n",
       "    }\n",
       "\n",
       "    .dataframe thead th {\n",
       "        text-align: right;\n",
       "    }\n",
       "</style>\n",
       "<table border=\"1\" class=\"dataframe\">\n",
       "  <thead>\n",
       "    <tr style=\"text-align: right;\">\n",
       "      <th></th>\n",
       "      <th>Date</th>\n",
       "      <th>counts</th>\n",
       "    </tr>\n",
       "  </thead>\n",
       "  <tbody>\n",
       "    <tr>\n",
       "      <th>1</th>\n",
       "      <td>2012-01-08</td>\n",
       "      <td>262</td>\n",
       "    </tr>\n",
       "    <tr>\n",
       "      <th>2</th>\n",
       "      <td>2012-01-15</td>\n",
       "      <td>157</td>\n",
       "    </tr>\n",
       "    <tr>\n",
       "      <th>3</th>\n",
       "      <td>2012-01-22</td>\n",
       "      <td>263</td>\n",
       "    </tr>\n",
       "    <tr>\n",
       "      <th>4</th>\n",
       "      <td>2012-01-29</td>\n",
       "      <td>275</td>\n",
       "    </tr>\n",
       "    <tr>\n",
       "      <th>5</th>\n",
       "      <td>2012-02-05</td>\n",
       "      <td>217</td>\n",
       "    </tr>\n",
       "  </tbody>\n",
       "</table>\n",
       "</div>"
      ],
      "text/plain": [
       "        Date  counts\n",
       "1 2012-01-08     262\n",
       "2 2012-01-15     157\n",
       "3 2012-01-22     263\n",
       "4 2012-01-29     275\n",
       "5 2012-02-05     217"
      ]
     },
     "execution_count": 112,
     "metadata": {},
     "output_type": "execute_result"
    }
   ],
   "source": [
    "# We remove the first value, since it is an anomaly\n",
    "district = district.tail(-1)\n",
    "district.head()"
   ]
  },
  {
   "cell_type": "code",
   "execution_count": 113,
   "id": "70ad3abc",
   "metadata": {},
   "outputs": [
    {
     "data": {
      "text/html": [
       "<div>\n",
       "<style scoped>\n",
       "    .dataframe tbody tr th:only-of-type {\n",
       "        vertical-align: middle;\n",
       "    }\n",
       "\n",
       "    .dataframe tbody tr th {\n",
       "        vertical-align: top;\n",
       "    }\n",
       "\n",
       "    .dataframe thead th {\n",
       "        text-align: right;\n",
       "    }\n",
       "</style>\n",
       "<table border=\"1\" class=\"dataframe\">\n",
       "  <thead>\n",
       "    <tr style=\"text-align: right;\">\n",
       "      <th></th>\n",
       "      <th>counts</th>\n",
       "      <th>Date</th>\n",
       "    </tr>\n",
       "  </thead>\n",
       "  <tbody>\n",
       "    <tr>\n",
       "      <th>0</th>\n",
       "      <td>240.971302</td>\n",
       "      <td>2012-01-08</td>\n",
       "    </tr>\n",
       "    <tr>\n",
       "      <th>1</th>\n",
       "      <td>238.598897</td>\n",
       "      <td>2012-01-15</td>\n",
       "    </tr>\n",
       "    <tr>\n",
       "      <th>2</th>\n",
       "      <td>236.348453</td>\n",
       "      <td>2012-01-22</td>\n",
       "    </tr>\n",
       "    <tr>\n",
       "      <th>3</th>\n",
       "      <td>234.217673</td>\n",
       "      <td>2012-01-29</td>\n",
       "    </tr>\n",
       "    <tr>\n",
       "      <th>4</th>\n",
       "      <td>232.204265</td>\n",
       "      <td>2012-02-05</td>\n",
       "    </tr>\n",
       "  </tbody>\n",
       "</table>\n",
       "</div>"
      ],
      "text/plain": [
       "       counts       Date\n",
       "0  240.971302 2012-01-08\n",
       "1  238.598897 2012-01-15\n",
       "2  236.348453 2012-01-22\n",
       "3  234.217673 2012-01-29\n",
       "4  232.204265 2012-02-05"
      ]
     },
     "execution_count": 113,
     "metadata": {},
     "output_type": "execute_result"
    }
   ],
   "source": [
    "district_smooth = pd.DataFrame(savgol_filter(district['counts'], 101, 3))\n",
    "district_smooth['Date'] = district['Date'].to_list()\n",
    "district_smooth.columns = ['counts', 'Date']\n",
    "district_smooth.head()"
   ]
  },
  {
   "cell_type": "code",
   "execution_count": 115,
   "id": "3a3373cc",
   "metadata": {},
   "outputs": [],
   "source": [
    "source = ColumnDataSource(data=district)\n",
    "source_smooth = ColumnDataSource(data=district_smooth)\n",
    "dates = np.array(district['Date'], dtype=np.datetime64)\n",
    "\n",
    "p = figure(title=f\"Crimes per Week in {focus_district}\", height=150, width=300, tools=\"xpan\", toolbar_location=None,\n",
    "           x_axis_type=\"datetime\", x_axis_location=\"above\",\n",
    "           background_fill_color=\"#efefef\", x_range=(dates[0], dates[50]))\n",
    "\n",
    "p.line('Date', 'counts', source=source)\n",
    "p.line('Date', 'counts', source=source_smooth, line_color=\"#f46d43\", line_width=3)\n",
    "p.yaxis.axis_label = 'Crime counts'\n",
    "\n",
    "select = figure(title=\"Drag the middle and edges of the \\nselection box to change \\nthe range above\",\n",
    "                height=125, width=300, y_range=p.y_range, \n",
    "                x_axis_type=\"datetime\", y_axis_type=None,\n",
    "                tools=\"\", toolbar_location=None, background_fill_color=\"#efefef\")\n",
    "\n",
    "range_tool = RangeTool(x_range=p.x_range)\n",
    "range_tool.overlay.fill_color = \"navy\"\n",
    "range_tool.overlay.fill_alpha = 0.2\n",
    "\n",
    "select.line('Date', 'counts', source=source)\n",
    "select.ygrid.grid_line_color = None\n",
    "select.add_tools(range_tool)\n",
    "\n",
    "show(column(p, select))"
   ]
  },
  {
   "cell_type": "code",
   "execution_count": null,
   "id": "facf6137",
   "metadata": {},
   "outputs": [],
   "source": []
  }
 ],
 "metadata": {
  "kernelspec": {
   "display_name": "Python 3 (ipykernel)",
   "language": "python",
   "name": "python3"
  },
  "language_info": {
   "codemirror_mode": {
    "name": "ipython",
    "version": 3
   },
   "file_extension": ".py",
   "mimetype": "text/x-python",
   "name": "python",
   "nbconvert_exporter": "python",
   "pygments_lexer": "ipython3",
   "version": "3.7.16"
  }
 },
 "nbformat": 4,
 "nbformat_minor": 5
}
